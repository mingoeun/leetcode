{
  "nbformat": 4,
  "nbformat_minor": 0,
  "metadata": {
    "colab": {
      "provenance": [],
      "authorship_tag": "ABX9TyNXmkhZTfunkTdrAZC4btAb"
    },
    "kernelspec": {
      "name": "python3",
      "display_name": "Python 3"
    },
    "language_info": {
      "name": "python"
    }
  },
  "cells": [
    {
      "cell_type": "markdown",
      "source": [
        "# 1.LeetCode 225. Implement Stack using Queues"
      ],
      "metadata": {
        "id": "XGOln2ZbqqMH"
      }
    },
    {
      "cell_type": "code",
      "source": [
        "class MyStack:\n",
        "\n",
        "  def __init__(self) :\n",
        "    self.q = deque()\n",
        "\n",
        "  def push(self, x:int) -> None:\n",
        "    self.q.append(x)\n",
        "    for i in range(len(self.q)-1):\n",
        "      self.q.append(self.q.popleft())\n",
        "\n",
        "  def pop(self) -> int:\n",
        "    return self.q.popleft()\n",
        "\n",
        "  def top(self) -> int:\n",
        "    return self.q[0]\n",
        "\n",
        "  def empty(self) -> bool:\n",
        "    return len(self.q) == 0"
      ],
      "metadata": {
        "id": "X77VmUxZq14P"
      },
      "execution_count": null,
      "outputs": []
    },
    {
      "cell_type": "markdown",
      "source": [
        "# 2. LeetCode 232. Implement Queue using Stacks"
      ],
      "metadata": {
        "id": "kUYfXipUq8E0"
      }
    },
    {
      "cell_type": "code",
      "source": [
        "class MyQueue:\n",
        "  def __init__(self) :\n",
        "    self.stack1 = []\n",
        "    self.stack2 = []\n",
        "\n",
        "  def push(self, x:int) -> None:\n",
        "    self.stack1.append(x)\n",
        "\n",
        "  def pop(self) -> int:\n",
        "    while self.stack1:\n",
        "      self.stack2.append(self.stack1.pop())\n",
        "    item = self.stack2.pop()\n",
        "    while self.stack2:\n",
        "      self.stack1.append(self.stack2.pop())\n",
        "    return item\n",
        "\n",
        "  def peek(self) -> int:\n",
        "    while self.stack1:\n",
        "      self.stack2.append(self.stack1.pop())\n",
        "\n",
        "    item = self.stack2[-1]\n",
        "\n",
        "    while self.stack2:\n",
        "      self.stack1.append(self.stack2.pop())\n",
        "\n",
        "    return item\n",
        "\n",
        "  def empty(self) -> bool:\n",
        "    if not self.stack1 and not self.stack2:\n",
        "      return True\n",
        "    return False"
      ],
      "metadata": {
        "id": "KM38WmEgrBMz"
      },
      "execution_count": null,
      "outputs": []
    },
    {
      "cell_type": "markdown",
      "source": [
        "# 교재의 큐 연습문제 전부"
      ],
      "metadata": {
        "id": "uTN9NExkrGjF"
      }
    },
    {
      "cell_type": "markdown",
      "source": [
        "#1"
      ],
      "metadata": {
        "id": "ikbA0EDx2D3y"
      }
    },
    {
      "cell_type": "code",
      "source": [
        "class ListQueue:\n",
        "  def __init__(self) :\n",
        "    self.__queue = []\n",
        "\n",
        "  def enqueue(self, x):\n",
        "    self.__queue.insert(0,x)\n",
        "\n",
        "  def dequeue(self) :\n",
        "    return self.__queue.pop(-1)\n",
        "\n",
        "  def front(self) :\n",
        "    return self.__queue[-1]\n",
        "\n",
        "  def isEmpty(self) -> bool:\n",
        "    return len(self.__queue) == 0\n",
        "\n",
        "  def dequeueAll(self):\n",
        "    self.__queue.clear()"
      ],
      "metadata": {
        "id": "f6Dnep0Q2E1h"
      },
      "execution_count": null,
      "outputs": []
    },
    {
      "cell_type": "markdown",
      "source": [
        "#2"
      ],
      "metadata": {
        "id": "uiv99j0G2qau"
      }
    },
    {
      "cell_type": "code",
      "source": [
        "from collections import deque\n",
        "\n",
        "def is_in_language(input_str):\n",
        "    q = deque()\n",
        "    separator_found = False\n",
        "\n",
        "    for ch in input_str:\n",
        "        if ch == '$':\n",
        "            if separator_found:\n",
        "                return False\n",
        "            separator_found = True\n",
        "        elif not separator_found:\n",
        "            q.append(ch)\n",
        "        else:\n",
        "            if not q or q.popleft() != ch:\n",
        "                return False\n",
        "\n",
        "    return separator_found and not q"
      ],
      "metadata": {
        "id": "HIbqIn3JrJSJ"
      },
      "execution_count": null,
      "outputs": []
    },
    {
      "cell_type": "markdown",
      "source": [
        "#3"
      ],
      "metadata": {
        "id": "UewBOhWH3FjO"
      }
    },
    {
      "cell_type": "code",
      "source": [
        "def copy_linked_queue(a):\n",
        "    b = LinkedQueue()\n",
        "    temp_items = []\n",
        "\n",
        "    # a를 순회하면서 b에 enqueue\n",
        "    for item in a:\n",
        "        temp_items.append(item)     # 원본 유지용\n",
        "        b.enqueue(item)\n",
        "\n",
        "    return b"
      ],
      "metadata": {
        "id": "xehQhBIl3Gqm"
      },
      "execution_count": null,
      "outputs": []
    },
    {
      "cell_type": "markdown",
      "source": [
        "#4"
      ],
      "metadata": {
        "id": "ARgjHePZ3g2B"
      }
    },
    {
      "cell_type": "code",
      "source": [
        "from collections import deque\n",
        "\n",
        "class StackUsingQueues:\n",
        "    def __init__(self):\n",
        "        self.q1 = deque()\n",
        "        self.q2 = deque()\n",
        "\n",
        "    def push(self, item):\n",
        "        self.q1.append(item)\n",
        "\n",
        "    def pop(self):\n",
        "        if not self.q1:\n",
        "            raise IndexError(\"pop from empty stack\")\n",
        "\n",
        "        # 마지막 요소를 제외하고 q2로 이동\n",
        "        while len(self.q1) > 1:\n",
        "            self.q2.append(self.q1.popleft())\n",
        "\n",
        "        # 마지막 요소가 pop 대상\n",
        "        popped_item = self.q1.popleft()\n",
        "\n",
        "        # q1과 q2를 스왑 (q2를 q1으로 만들어 다음 연산 대비)\n",
        "        self.q1, self.q2 = self.q2, self.q1\n",
        "\n",
        "        return popped_item"
      ],
      "metadata": {
        "id": "6GgxsMTQ3iIY"
      },
      "execution_count": null,
      "outputs": []
    },
    {
      "cell_type": "markdown",
      "source": [
        "#5"
      ],
      "metadata": {
        "id": "MWdGzFih3xTV"
      }
    },
    {
      "cell_type": "code",
      "source": [
        "class QueueUsingStacks:\n",
        "    def __init__(self):\n",
        "        self.s1 = []  # 입력용 스택\n",
        "        self.s2 = []  # 출력용 스택\n",
        "\n",
        "    def enqueue(self, item):\n",
        "        self.s1.append(item)\n",
        "\n",
        "    def dequeue(self):\n",
        "        if not self.s2:\n",
        "            while self.s1:\n",
        "                self.s2.append(self.s1.pop())\n",
        "\n",
        "        if not self.s2:\n",
        "            raise IndexError(\"dequeue from empty queue\")\n",
        "\n",
        "        return self.s2.pop()"
      ],
      "metadata": {
        "id": "fZ2byoo33zC7"
      },
      "execution_count": null,
      "outputs": []
    },
    {
      "cell_type": "markdown",
      "source": [
        "#6"
      ],
      "metadata": {
        "id": "an0wmopq4HLW"
      }
    },
    {
      "cell_type": "markdown",
      "source": [
        "수행시간은 각각 enqueue()가 O(1), dequeue()가 O(1)이다. enqueue()와 dequeue() 모두 큐의 맨 앞과 맨 뒤에서 가능하므로, 큐의 사이즈와 상관없이 수행시간이 상수에 비례하기 때문이다."
      ],
      "metadata": {
        "id": "PavmiogV6351"
      }
    },
    {
      "cell_type": "markdown",
      "source": [
        "#7"
      ],
      "metadata": {
        "id": "MO6yiYZu7Bxu"
      }
    },
    {
      "cell_type": "markdown",
      "source": [
        "수행시간은 각각 enqueue()가 O(n), dequeue()가 O(1)이다. LinkedList일 경우, dequeue()는 맨 앞에서 실행되므로 수행시간이 상수에 비례하지만, enqueue()는 맨 뒤에서만 실행이 가능하므로 큐의 사이즈인 n만큼 이동한 뒤 시행이 가능하기 때문에 수행시간이 n에 비례한다."
      ],
      "metadata": {
        "id": "T2lXSWoy7y2Y"
      }
    },
    {
      "cell_type": "markdown",
      "source": [
        "#8"
      ],
      "metadata": {
        "id": "EC3q26o28adW"
      }
    },
    {
      "cell_type": "code",
      "source": [
        "class Deque:\n",
        "    def __init__(self):\n",
        "        self.__queue = []\n",
        "\n",
        "    # 뒤쪽 삽입\n",
        "    def enqueueRear(self, x):\n",
        "        self.__queue.append(x)\n",
        "\n",
        "    # 앞쪽 삽입\n",
        "    def enqueueFront(self, x):\n",
        "        self.__queue.insert(0, x)\n",
        "\n",
        "    # 앞쪽 삭제\n",
        "    def dequeueFront(self):\n",
        "        if self.isEmpty():\n",
        "            raise IndexError(\"Deque is empty\")\n",
        "        return self.__queue.pop(0)\n",
        "\n",
        "    # 뒤쪽 삭제\n",
        "    def dequeueRear(self):\n",
        "        if self.isEmpty():\n",
        "            raise IndexError(\"Deque is empty\")\n",
        "        return self.__queue.pop()\n",
        "\n",
        "    # 맨 앞 원소 확인\n",
        "    def front(self):\n",
        "        if self.isEmpty():\n",
        "            return None\n",
        "        return self.__queue[0]\n",
        "\n",
        "    # 맨 뒤 원소 확인\n",
        "    def rear(self):\n",
        "        if self.isEmpty():\n",
        "            return None\n",
        "        return self.__queue[-1]\n",
        "\n",
        "    # 공백 확인\n",
        "    def isEmpty(self) -> bool:\n",
        "        return len(self.__queue) == 0\n",
        "\n",
        "    # 전체 삭제\n",
        "    def dequeueAll(self):\n",
        "        self.__queue.clear()\n",
        "\n",
        "    # 출력\n",
        "    def printDeque(self):\n",
        "        print(\"Deque from front:\", end=' ')\n",
        "        for item in self.__queue:\n",
        "            print(item, end=' ')\n",
        "        print()\n"
      ],
      "metadata": {
        "id": "Z7hzuePN4IEk"
      },
      "execution_count": null,
      "outputs": []
    }
  ]
}